{
 "cells": [
  {
   "cell_type": "code",
   "execution_count": 7,
   "metadata": {},
   "outputs": [],
   "source": [
    "import sys\n",
    "import os\n",
    "import time\n",
    "sys.path.append(\".\")\n",
    "os.environ['JUPYTER_PATH'] = '.'\n",
    "CLIENT_ID = \"e6c75d97-532a-4c88-b031-8584a319fa3e\"\n",
    "\n",
    "from globus.automate.client import (get_access_token_for_scope, create_action_client, \n",
    "                                    create_flows_client)"
   ]
  },
  {
   "cell_type": "markdown",
   "metadata": {},
   "source": [
    "# Globus Automate: Flows and Actions\n",
    "\n",
    "## Flow Definition\n",
    "\n",
    "* Flows composed of *Action* invocations\n",
    "* Each Action invocation reads from and contributes back to the *Flow State*"
   ]
  },
  {
   "cell_type": "code",
   "execution_count": 2,
   "metadata": {},
   "outputs": [],
   "source": [
    "flow_definition = {\n",
    "  \"Comment\": \"Two step transfer\",\n",
    "  \"StartAt\": \"Transfer1\",\n",
    "  \"States\": {\n",
    "    \"Transfer1\": {\n",
    "      \"Comment\": \"Initial Transfer from Campus to DMZ\",\n",
    "      \"Type\": \"Action\",\n",
    "      \"ActionUrl\": \"https://actions.automate.globus.org/Transfer\",\n",
    "      \"ActionScope\": \"https://auth.globus.org/scopes/helloworld.actions.automate.globus.org/globus_transfer_action_all\",\n",
    "      \"InputPath\": \"$.Transfer1Input\",\n",
    "      \"ResultPath\": \"$.Transfer1Result\",\n",
    "      \"Next\": \"Transfer2\"\n",
    "    },\n",
    "    \"Transfer2\": {\n",
    "      \"Comment\": \"Transfer from DMZ to dataset repository\",\n",
    "      \"Type\": \"Action\",\n",
    "      \"ActionUrl\": \"https://actions.automate.globus.org/Transfer\",\n",
    "      \"ActionScope\": \"https://auth.globus.org/scopes/helloworld.actions.automate.globus.org/globus_transfer_action_all\",\n",
    "      \"InputPath\": \"$.Transfer2Input\",\n",
    "      \"ResultPath\": \"$.Transfer2Result\",\n",
    "      \"End\": True\n",
    "    }\n",
    "  }\n",
    "}\n"
   ]
  },
  {
   "cell_type": "markdown",
   "metadata": {},
   "source": [
    "* This flow composes two transfers into a single logical operation\n",
    "  * Suitable, for example, for doing a two stage transfer between a local campus endpoint, a DMZ data transfer endpoint, and a dataset repository.\n",
    "  * Each step in the Flow uses the same Action: Transfer which is referenced by URL\n",
    "  * Globus Auth Scope information is required to authenticate operations to the Action.\n",
    "  * Source and destination information for the Transfer state are given in `InputPath` and `ResultPath`\n",
    "    * Format of the input is Action dependent\n"
   ]
  },
  {
   "cell_type": "code",
   "execution_count": 4,
   "metadata": {},
   "outputs": [
    {
     "name": "stdout",
     "output_type": "stream",
     "text": [
      "Newly created flow with id:\n",
      "2376fac3-dd1a-4dc3-b55d-b376835433bd\n",
      "and scope:\n",
      "https://auth.globus.org/scopes/eec9b274-0c81-4334-bdc2-54e90e689b9a/flow_9503a86a_1ea6_4a78_bf75_73541c01ab76\n"
     ]
    }
   ],
   "source": [
    "flows_client = create_flows_client(CLIENT_ID)\n",
    "flow = flows_client.deploy_flow(flow_definition)\n",
    "flow_id = flow['id']\n",
    "flow_scope = flow['scope_string']\n",
    "print(f'Newly created flow with id:\\n{flow_id}\\nand scope:\\n{flow_scope}')"
   ]
  },
  {
   "cell_type": "markdown",
   "metadata": {},
   "source": [
    "* The newly created flow has an id, and a scope which will be used when invoking the flow as follows:"
   ]
  },
  {
   "cell_type": "code",
   "execution_count": 8,
   "metadata": {},
   "outputs": [
    {
     "name": "stdout",
     "output_type": "stream",
     "text": [
      "Flow action started with id: 89fba79c-ac4b-4c8a-bf02-1c4b50edb980\n",
      "Flow status: RUNNING\n",
      "Flow status: RUNNING\n",
      "Flow status: RUNNING\n",
      "Flow status: SUCCEEDED\n"
     ]
    }
   ],
   "source": [
    "flow_input = {\n",
    "  \"Transfer1Input\": {\n",
    "    \"source_endpoint_id\": \"go#ep1\",\n",
    "    \"destination_endpoint_id\": \"go#ep2\",\n",
    "    \"transfer_items\": [\n",
    "      {\n",
    "        \"source_path\": \"/~/campus_source/dataset1/\",\n",
    "        \"destination_path\": \"/~/dmz_temp/dataset1\",\n",
    "        \"recursive\": True\n",
    "      }\n",
    "    ]\n",
    "  },\n",
    "  \"Transfer2Input\": {\n",
    "    \"source_endpoint_id\": \"go#ep2\",\n",
    "    \"destination_endpoint_id\": \"go#ep1\",\n",
    "    \"transfer_items\": [\n",
    "      {\n",
    "        \"source_path\": \"/~/dmz_temp/dataset1/\",\n",
    "        \"destination_path\": \"/~/dataset_repository/dataset1\",\n",
    "        \"recursive\": True\n",
    "      }\n",
    "    ]\n",
    "  }\n",
    "}\n",
    "\n",
    "flow_action = flows_client.run_flow(flow_id, flow_scope, flow_input)\n",
    "flow_action_id = flow_action['id']\n",
    "flow_status = flow_action['status']\n",
    "print(f'Flow action started with id: {flow_action_id}')\n",
    "while flow_status == 'RUNNING':\n",
    "    time.sleep(2)\n",
    "    flow_action = flows_client.flow_action_status(flow_id, flow_scope, flow_action_id)\n",
    "    flow_status = flow_action['status']\n",
    "    print(f'Flow status: {flow_status}')"
   ]
  },
  {
   "cell_type": "markdown",
   "metadata": {},
   "source": [
    "## All Actions are invoked with the same pattern via REST\n",
    "\n",
    "1. run\n",
    "2. status\n",
    "3. release\n",
    "4. (cancel)\n",
    "\n",
    "### Each step goverend by Authentication.\n",
    "\n",
    "* We can also run Actions directly to take advantage of their standard pattern"
   ]
  },
  {
   "cell_type": "code",
   "execution_count": 13,
   "metadata": {},
   "outputs": [
    {
     "name": "stdout",
     "output_type": "stream",
     "text": [
      "ActionId: WdYx7XiXLHPN Status: SUCCEEDED\n",
      "Link to new Identifier: https://identifiers.globus.org/globus:u6dqNR04o7e\n"
     ]
    }
   ],
   "source": [
    "IDENTIFIERS_SCOPE = \"https://auth.globus.org/scopes/5fac2e64-c734-4e6b-90ea-ff12ddbf9653/identifiers_run_status_release\"\n",
    "identifiers_request = {\n",
    "  \"namespace_id\": \"A63CZStxzei6\",\n",
    "  \"location\": [\"https://app.globus.org/file-manager?origin_id=ddb59aef-6d04-11e5-ba46-22000b92c6ec\"],\n",
    "    \"visible_to\": [\"public\"],\n",
    "    \"metadata\": {\n",
    "      \"creator\": \"Sally User\",\n",
    "      \"title\": \"An Important Dataset\"\n",
    "    }\n",
    "}\n",
    "identifiers_token = get_access_token_for_scope(IDENTIFIERS_SCOPE, CLIENT_ID)\n",
    "identifiers_client = create_action_client(\n",
    "    \"http://actions.automate.globus.org/Identifiers\", identifiers_token)\n",
    "# identifiers_action_description = identifiers_client.introspect()\n",
    "# print(identifiers_action_description)\n",
    "identifiers_action_status = identifiers_client.run(identifiers_request)\n",
    "identifiers_action_id = identifiers_action_status[\"action_id\"]\n",
    "print(f'ActionId: {identifiers_action_id} Status: {identifiers_action_status[\"status\"]}')\n",
    "while identifiers_action_status[\"status\"] not in (\"SUCCEEDED\", \"FAILED\"):\n",
    "    time.sleep(2)\n",
    "    identifiers_action_status = identifiers_client.status(identifiers_action_id)\n",
    "    print(f'ActionId: {identifiers_action_id} Status: {identifiers_action_status[\"status\"]}')\n",
    "\n",
    "# identifiers_action_status = identifiers_client.release(identifiers_action_id)\n",
    "# print(f\"Final Complete Status: {identifiers_action_status.data}\")\n",
    "print(f\"Link to new Identifier: {identifiers_action_status.data['details']['landing_page']}\")\n"
   ]
  },
  {
   "cell_type": "markdown",
   "metadata": {},
   "source": [
    "## Action Implementation Helper in Automate SDK"
   ]
  },
  {
   "cell_type": "code",
   "execution_count": null,
   "metadata": {},
   "outputs": [],
   "source": [
    "from globus.automate.common import AbstractActionProvider, ActionInstance, AuthState\n",
    "\n",
    "\n",
    "class HelloWorldActionProvider(AbstractActionProvider):\n",
    "    # Declare the format for inputs to this Action for use in Action Introspection\n",
    "    # and for validation of input by the service\n",
    "    request_body_schema = {\n",
    "        \"type\": \"object\",\n",
    "        \"properties\": {\n",
    "            \"echo_string\": {\"type\": \"string\"},\n",
    "            \"sleep_time\": {\"type\": \"integer\"},\n",
    "        },\n",
    "        \"additionalProperties\": False,\n",
    "    }\n",
    "\n",
    "    def __init__(self, *args, **kwargs):\n",
    "        # Set the Actions REST API URL location on the server\n",
    "        self.url_prefix = kwargs.get(\"url_prefix\", \"HelloWorld\")\n",
    "        \n",
    "        # Define properties needed to do Authentication of requests via Globus Auth\n",
    "        self.globus_auth_client_id = kwargs.get(\n",
    "            \"globus_auth_client_id\", \"5fac2e64-c734-4e6b-90ea-ff12ddbf9653\"\n",
    "        )\n",
    "        self.globus_auth_client_name = kwargs.get(\n",
    "            \"globus_auth_client_name\", \"hello_world_action_provider\"\n",
    "        )\n",
    "        self.globus_auth_client_secret = kwargs.get(\"globus_auth_client_secret\")\n",
    "        self.globus_auth_scope = kwargs.get(\n",
    "            \"globus_auth_scope\",\n",
    "            (\n",
    "                \"https://auth.globus.org/scopes/helloworld.actions.automate.globus.org/all\"\n",
    "            ),\n",
    "        )\n",
    "        \n",
    "        # Set properties for Action Introspection\n",
    "        self.title = \"Hello World\"\n",
    "        self.subtitle = \"An Action responding Hello to an input value\"\n",
    "        self.visible_to = kwargs.get(\"visible_to\", [\"public\"])\n",
    "        self.administered_by = kwargs.get(\"administered_by\", [\"foo@bar.com\"])\n",
    "        self.admin_contact = kwargs.get(\"admin_contact\", \"support@globus.org\")\n",
    "        self.synchronous = False\n",
    "        self.log_supported = False\n",
    "        self.runnable_by = kwargs.get(\"runnable_by\", [\"public\"])\n",
    "        self.input_schema = HelloWorldActionProvider.request_body_schema\n",
    "        super(HelloWorldActionProvider, self).__init__(*args, **kwargs)\n",
    "\n",
    "    def _action_done(self, action: ActionInstance) -> bool:\n",
    "        \"\"\"\n",
    "        Helper for determining when a request with sleep_time in the request is\n",
    "        completed.\n",
    "        \"\"\"\n",
    "        if \"sleep_time\" not in action.request_body:\n",
    "            return True\n",
    "        else:\n",
    "            now = datetime.datetime.now()\n",
    "            run_length = (now - action.start_time).total_seconds()\n",
    "            return run_length > int(action.request_body[\"sleep_time\"])\n",
    "\n",
    "    def run_action(self, action: ActionInstance, auth_state: AuthStatae) -> ActionInstance:\n",
    "        # Callback for starting a new Action\n",
    "        action.action_id = self.generate_actionid()\n",
    "        action.details = {\"Hello\": \"World\"}\n",
    "        if \"echo_string\" in action.request_body:\n",
    "            action.details[\"hello\"] = action.request_body[\"echo_string\"]\n",
    "        if self._action_done(action):\n",
    "            action.status = \"SUCCEEDED\"\n",
    "            action.completion_time = datetime.datetime.now()\n",
    "        else:\n",
    "            action.status = \"ACTIVE\"\n",
    "        return action\n",
    "\n",
    "    def check_status(self, action: ActionInstance, auth_state: AuthState) -> ActionInstance:\n",
    "        # Callback for a user status check\n",
    "        if self._action_done(action):\n",
    "            action.status = \"SUCCEEDED\"\n",
    "            action.completion_time = datetime.datetime.now()\n",
    "        else:\n",
    "            action.status = \"ACTIVE\"\n",
    "        return action\n",
    "\n",
    "    def cancel_action(self, action: ActionInstance, auth_state: AuthState) -> ActionInstance:\n",
    "        # Callback for cancel\n",
    "        action.status = 'FAILED'\n",
    "        action.completion_time = datetime.datetime.now()\n",
    "        return action\n",
    "\n",
    "# Create the flask app, sqlalchemy engine and configure the action on the flask app\n",
    "flask = Flask(__name__)\n",
    "db_engine = sqlalchemy.create_engine(db_uri)\n",
    "hello_world_provider = HelloWorldActionProvider()\n",
    "hello_world_provider.set_flask_routes(flask, db_engine)"
   ]
  }
 ],
 "metadata": {
  "celltoolbar": "Attachments",
  "kernelspec": {
   "display_name": "Python 3",
   "language": "python",
   "name": "python3"
  },
  "language_info": {
   "codemirror_mode": {
    "name": "ipython",
    "version": 3
   },
   "file_extension": ".py",
   "mimetype": "text/x-python",
   "name": "python",
   "nbconvert_exporter": "python",
   "pygments_lexer": "ipython3",
   "version": "3.6.7"
  }
 },
 "nbformat": 4,
 "nbformat_minor": 2
}
